{
 "cells": [
  {
   "cell_type": "markdown",
   "metadata": {},
   "source": [
    "# HTTP Request/Response Cycle - Lab\n",
    "\n",
    "## Introduction \n",
    "\n",
    "In this lab, we'll make use of the `requests` module commands and properties seen in the previous lesson, to extract information for a web service called **\"Open Notify\"** to access NASA's space data. \n",
    "\n",
    "## Objectives\n",
    "\n",
    "You will be able to:\n",
    "\n",
    "* Explain the HTTP request/response cycle\n",
    "* List the status codes of responses and their meanings\n",
    "* Obtain and interpret status codes from responses\n",
    "* Make HTTP GET and POST requests in python using the `requests` library\n",
    "\n",
    "## Open Notify \n",
    "\n",
    "[Open Notify](http://open-notify.org/)  is an an open source project to provide a simple programming interface for some of NASA’s awesome data. This takes live raw data from NASA's systems and turn them into APIs related to space and spacecraft. We can access the following information from open notify. \n",
    "\n",
    "* Current Location of the International Space Station\n",
    "\n",
    "* Overhead Pass Predictions for the International Space Station\n",
    "\n",
    "* Number of People in Space\n",
    "    \n",
    "### API endpoints\n",
    "\n",
    "Open Notify has several API endpoints. \n",
    ">An endpoint is a server route that is used to retrieve different data from the API. \n",
    "\n",
    "For example, the `/comments` endpoint on the Reddit API might retrieve information about comments, whereas the `/users` endpoint might retrieve data about users. To access them, you would add the endpoint to the base url of the API.\n",
    "\n",
    "For the OpenNotify API, we have following end points \n",
    "\n",
    "1. Current Location of the International Space Station `/iss-now.json`\n",
    "2. Overhead Pass Predictions for the International Space Station `/iss-pass.json`    \n",
    "3. Number of People in Space `/astros.json`\n",
    "\n",
    "The `.json` extension simply tells us that the data is being returned in a JSON format.\n",
    "\n",
    "In this lab, we'll be querying this API to retrieve live data about the International Space Station (ISS). Details on OpenNofity, endpoints, syntax, and the services it offers can be viewed [Here](http://open-notify.org/Open-Notify-API/)\n",
    "\n",
    "![](images/iss.jpg)\n",
    "\n",
    "### Current location of International Space Station\n",
    "\n",
    "The first endpoint we'll look at on Open Notify is the ` iss-now.json` endpoint (current location of international space station). This endpoint gets the current latitude and longitude of the International Space Station.  Perform the following tasks \n",
    "* Make a get request to get the latest position of the international space station from the opennotify api's `iss-now` endpoint at http://api.open-notify.org/iss-now.json\n",
    "* Check the status code of the response\n",
    "* Interpret the returned code"
   ]
  },
  {
   "cell_type": "code",
   "execution_count": 2,
   "metadata": {},
   "outputs": [
    {
     "name": "stdout",
     "output_type": "stream",
     "text": [
      "200\n"
     ]
    }
   ],
   "source": [
    "# Your Code Here\n",
    "import requests\n",
    "\n",
    "response = requests.get(\"http://api.open-notify.org/iss-now.json\")\n",
    "\n",
    "print(response.status_code)"
   ]
  },
  {
   "cell_type": "code",
   "execution_count": 2,
   "metadata": {},
   "outputs": [],
   "source": [
    "# Your comments \n",
    "#status_code is 200, I think that means it worked. No error code."
   ]
  },
  {
   "cell_type": "markdown",
   "metadata": {},
   "source": [
    "* Print the contents of the response and identify its current location"
   ]
  },
  {
   "cell_type": "code",
   "execution_count": 3,
   "metadata": {},
   "outputs": [
    {
     "name": "stdout",
     "output_type": "stream",
     "text": [
      "{\"message\": \"success\", \"iss_position\": {\"latitude\": \"30.1806\", \"longitude\": \"-60.1479\"}, \"timestamp\": 1639596644}\n"
     ]
    }
   ],
   "source": [
    "# Your Code Here\n",
    "print(response.text)"
   ]
  },
  {
   "cell_type": "code",
   "execution_count": 4,
   "metadata": {},
   "outputs": [],
   "source": [
    "# Interpret your results using the API\n",
    "# The International Space Station is currently at Latitude 30.1806, Longitude -60.1479"
   ]
  },
  {
   "cell_type": "markdown",
   "metadata": {},
   "source": [
    "### Check the next pass of International space station for a given location\n",
    "\n",
    "Let's repeat the above for the second endpoint `iss-pass.json`. This end point is used to query the next pass of the space station on a given location. Let's just run as above and record your observations."
   ]
  },
  {
   "cell_type": "code",
   "execution_count": 5,
   "metadata": {},
   "outputs": [
    {
     "name": "stdout",
     "output_type": "stream",
     "text": [
      "400\n"
     ]
    }
   ],
   "source": [
    "# Your Code Here\n",
    "import requests\n",
    "\n",
    "response = requests.get(\"http://api.open-notify.org/iss-pass.json\")\n",
    "\n",
    "print(response.status_code)"
   ]
  },
  {
   "cell_type": "code",
   "execution_count": 6,
   "metadata": {},
   "outputs": [],
   "source": [
    "# Your comments \n",
    "# status_code = 400. Apparently, the server thinks I made a bad request.\n",
    "# I'm not sure how I was supposed to know that 200 = good and 400 = bad."
   ]
  },
  {
   "cell_type": "markdown",
   "metadata": {},
   "source": [
    "So clearly there is something wrong as we had a 400 response. This is how you should always test your responses for validity. \n",
    "\n",
    "If we look at the documentation for the Open Notify API, we see that the ISS Pass endpoint requires two parameters.\n",
    "\n",
    "> The ISS Pass endpoint returns when the ISS will next pass over a given location on earth. In order to compute this, we need to pass the coordinates of the location to the API. We do this by passing two parameters -- latitude and longitude.\n",
    "\n",
    "We can do this by adding an optional keyword argument, `params`, to our request. In this case, there are two parameters we need to pass:\n",
    "\n",
    "* `lat` -- The latitude of the location we want.\n",
    "* `lon` -- The longitude of the location we want.\n",
    "\n",
    "Perform the following tasks :\n",
    "* Set parameters to reflect the lat and long of New York  (40.71, -74)\n",
    "* Send a get request to Open Notify passing in the lat long parameters as k:v pairs in a dictionary\n",
    "* Check the status code and interpret\n",
    "* Print the header information and the returned content"
   ]
  },
  {
   "cell_type": "code",
   "execution_count": 6,
   "metadata": {},
   "outputs": [
    {
     "name": "stdout",
     "output_type": "stream",
     "text": [
      "200\n",
      "{'Server': 'nginx/1.10.3', 'Date': 'Wed, 15 Dec 2021 19:44:03 GMT', 'Content-Type': 'application/json', 'Content-Length': '519', 'Connection': 'keep-alive', 'Via': '1.1 vegur'}\n",
      "{\n",
      "  \"message\": \"success\", \n",
      "  \"request\": {\n",
      "    \"altitude\": 100, \n",
      "    \"datetime\": 1639597443, \n",
      "    \"latitude\": 40.71, \n",
      "    \"longitude\": -74.0, \n",
      "    \"passes\": 5\n",
      "  }, \n",
      "  \"response\": [\n",
      "    {\n",
      "      \"duration\": 511, \n",
      "      \"risetime\": 1639601919\n",
      "    }, \n",
      "    {\n",
      "      \"duration\": 259, \n",
      "      \"risetime\": 1639650683\n",
      "    }, \n",
      "    {\n",
      "      \"duration\": 634, \n",
      "      \"risetime\": 1639656253\n",
      "    }, \n",
      "    {\n",
      "      \"duration\": 636, \n",
      "      \"risetime\": 1639662062\n",
      "    }, \n",
      "    {\n",
      "      \"duration\": 569, \n",
      "      \"risetime\": 1639667952\n",
      "    }\n",
      "  ]\n",
      "}\n",
      "\n"
     ]
    }
   ],
   "source": [
    "# Your Code Here\n",
    "parameters = {\"lat\": 40.71, \"lon\": -74}\n",
    "\n",
    "response = requests.get(\"http://api.open-notify.org/iss-pass.json\", params=parameters)\n",
    "print(response.status_code)\n",
    "\n",
    "print(dict(response.headers))\n",
    "print(response.text)"
   ]
  },
  {
   "cell_type": "code",
   "execution_count": 8,
   "metadata": {},
   "outputs": [],
   "source": [
    "# Check the API and interpret your results - when will ISS pass over NEW York next ?\n",
    "# 1639601919 - whatever time/date this is."
   ]
  },
  {
   "cell_type": "markdown",
   "metadata": {},
   "source": [
    "### Finding the number of people in space\n",
    "\n",
    "Open Notify has one more API endpoint, `/astros.json`. It tells you how many people are currently in space. The format of the responses can be studied [HERE](http://open-notify.org/Open-Notify-API/People-In-Space/).\n",
    "\n",
    "Read the above documentation and perform the following tasks:\n",
    "\n",
    "* Get the response from astros.json endpoint\n",
    "* Count how many people are currently in space\n",
    "* List the names of people currently in space."
   ]
  },
  {
   "cell_type": "code",
   "execution_count": 10,
   "metadata": {},
   "outputs": [
    {
     "name": "stdout",
     "output_type": "stream",
     "text": [
      "200\n",
      "{'message': 'success', 'people': [{'craft': 'ISS', 'name': 'Mark Vande Hei'}, {'craft': 'ISS', 'name': 'Pyotr Dubrov'}, {'craft': 'ISS', 'name': 'Anton Shkaplerov'}, {'craft': 'Shenzhou 13', 'name': 'Zhai Zhigang'}, {'craft': 'Shenzhou 13', 'name': 'Wang Yaping'}, {'craft': 'Shenzhou 13', 'name': 'Ye Guangfu'}, {'craft': 'ISS', 'name': 'Raja Chari'}, {'craft': 'ISS', 'name': 'Tom Marshburn'}, {'craft': 'ISS', 'name': 'Kayla Barron'}, {'craft': 'ISS', 'name': 'Matthias Maurer'}, {'craft': 'ISS', 'name': 'Alexander Misurkin'}, {'craft': 'ISS', 'name': 'Yusaku Maezawa'}, {'craft': 'ISS', 'name': 'Yozo Hirano'}], 'number': 13}\n",
      "13\n"
     ]
    },
    {
     "ename": "KeyError",
     "evalue": "'name'",
     "output_type": "error",
     "traceback": [
      "\u001b[1;31m---------------------------------------------------------------------------\u001b[0m",
      "\u001b[1;31mKeyError\u001b[0m                                  Traceback (most recent call last)",
      "\u001b[1;32m<ipython-input-10-5306da480ee9>\u001b[0m in \u001b[0;36m<module>\u001b[1;34m\u001b[0m\n\u001b[0;32m      8\u001b[0m \u001b[0mprint\u001b[0m\u001b[1;33m(\u001b[0m\u001b[0mdict\u001b[0m\u001b[1;33m(\u001b[0m\u001b[0mdata\u001b[0m\u001b[1;33m)\u001b[0m\u001b[1;33m)\u001b[0m\u001b[1;33m\u001b[0m\u001b[1;33m\u001b[0m\u001b[0m\n\u001b[0;32m      9\u001b[0m \u001b[0mprint\u001b[0m\u001b[1;33m(\u001b[0m\u001b[0mdata\u001b[0m\u001b[1;33m[\u001b[0m\u001b[1;34m\"number\"\u001b[0m\u001b[1;33m]\u001b[0m\u001b[1;33m)\u001b[0m\u001b[1;33m\u001b[0m\u001b[1;33m\u001b[0m\u001b[0m\n\u001b[1;32m---> 10\u001b[1;33m \u001b[0mprint\u001b[0m\u001b[1;33m(\u001b[0m\u001b[0mdata\u001b[0m\u001b[1;33m[\u001b[0m\u001b[1;34m\"name\"\u001b[0m\u001b[1;33m]\u001b[0m\u001b[1;33m)\u001b[0m\u001b[1;33m\u001b[0m\u001b[1;33m\u001b[0m\u001b[0m\n\u001b[0m",
      "\u001b[1;31mKeyError\u001b[0m: 'name'"
     ]
    }
   ],
   "source": [
    "# Your Code Here\n",
    "import requests\n",
    "\n",
    "response = requests.get(\"http://api.open-notify.org/astros.json\")\n",
    "data = response.json()\n",
    "print(response.status_code)\n",
    "\n",
    "print(dict(data))\n",
    "print(data[\"number\"])\n"
   ]
  },
  {
   "cell_type": "code",
   "execution_count": 10,
   "metadata": {},
   "outputs": [],
   "source": [
    "# Interpret the Results - How many people are in space and what are their names \n",
    "\n",
    "#13 people in space. Names: Mark Vande Hei, Pyotr Dubrov, Anton Shkaplerov\n",
    "#Zhai Zhigang, Wang Yaping, Ye Guangfu, Raja Chari, Tom Marshburn, \n",
    "#Kayla Barron, Matthias Maurer, Alexander Misurkin, Yusaku Maezawa, Yozo Hirano"
   ]
  },
  {
   "cell_type": "markdown",
   "metadata": {},
   "source": [
    "## Summary \n",
    "\n",
    "In this lesson, we saw how we can use request and response methods to query an Open API. We also saw how to look at the contents returned with the API calls and how to parse them. Next, we'll look at connecting to APIs which are not OPEN, i.e. we would need to pass in some authentication information and filter the results. "
   ]
  }
 ],
 "metadata": {
  "kernelspec": {
   "display_name": "Python(learn-env)",
   "language": "python",
   "name": "learn-env"
  },
  "language_info": {
   "codemirror_mode": {
    "name": "ipython",
    "version": 3
   },
   "file_extension": ".py",
   "mimetype": "text/x-python",
   "name": "python",
   "nbconvert_exporter": "python",
   "pygments_lexer": "ipython3",
   "version": "3.8.5"
  },
  "toc": {
   "base_numbering": 1,
   "nav_menu": {},
   "number_sections": true,
   "sideBar": true,
   "skip_h1_title": false,
   "title_cell": "Table of Contents",
   "title_sidebar": "Contents",
   "toc_cell": false,
   "toc_position": {},
   "toc_section_display": true,
   "toc_window_display": false
  }
 },
 "nbformat": 4,
 "nbformat_minor": 2
}
